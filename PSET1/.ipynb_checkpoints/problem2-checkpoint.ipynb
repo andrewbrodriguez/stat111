{
 "cells": [
  {
   "cell_type": "code",
   "execution_count": 2,
   "metadata": {},
   "outputs": [],
   "source": [
    "import numpy as np\n",
    "import matplotlib.pyplot as plt\n",
    "from scipy.stats import norm\n",
    "\n",
    "\n"
   ]
  },
  {
   "cell_type": "code",
   "execution_count": 21,
   "metadata": {},
   "outputs": [],
   "source": [
    "# params\n",
    "mu = 60\n",
    "sigma = 10\n",
    "iters = int(10E7)"
   ]
  },
  {
   "cell_type": "code",
   "execution_count": 22,
   "metadata": {},
   "outputs": [],
   "source": [
    "x = np.random.normal(mu, sigma, iters)"
   ]
  },
  {
   "cell_type": "code",
   "execution_count": 27,
   "metadata": {},
   "outputs": [
    {
     "name": "stdout",
     "output_type": "stream",
     "text": [
      "Sample Mean:  0.5000044301487514\n",
      "Sample Variance:  0.08333136030952257\n",
      "On 100000000 iterations\n"
     ]
    }
   ],
   "source": [
    "# For each simulated midterm score x, compute\n",
    "# p = P(final score > x) = 1 - Phi((x-mu)/sigma)\n",
    "p = 1 - norm.cdf(x, loc=mu, scale=sigma)\n",
    "\n",
    "# Compute sample mean and variance\n",
    "sample_mean = np.mean(p)\n",
    "sample_variance = np.var(p)  \n",
    "\n",
    "print(\"Sample Mean: \", sample_mean)\n",
    "print(\"Sample Variance: \", sample_variance)\n",
    "print(\"On\", iters, \"iterations\")"
   ]
  },
  {
   "cell_type": "code",
   "execution_count": 26,
   "metadata": {},
   "outputs": [
    {
     "data": {
      "image/png": "[encoded data removed]",
      "text/plain": [
       "<Figure size 640x480 with 1 Axes>"
      ]
     },
     "metadata": {},
     "output_type": "display_data"
    }
   ],
   "source": [
    "plt.hist(p, bins=30, density=True, alpha=0.7, color='red', edgecolor='black')\n",
    "plt.xlabel('p')\n",
    "plt.ylabel('density')\n",
    "plt.title('His of p values')\n",
    "plt.show()"
   ]
  },
  {
   "cell_type": "code",
   "execution_count": 30,
   "metadata": {},
   "outputs": [
    {
     "name": "stdout",
     "output_type": "stream",
     "text": [
      "Simulated Probability: 0.3618313\n"
     ]
    }
   ],
   "source": [
    "# params\n",
    "mu = 60\n",
    "sigma = 10\n",
    "iters = int(10E7)\n",
    "\n",
    "midterm = np.random.normal(mu, sigma, iters)\n",
    "final = np.random.normal(mu, sigma, iters)\n",
    "\n",
    "event = (final >= midterm + 5)\n",
    "\n",
    "sim = np.mean(event)\n",
    "\n",
    "print(\"Simulated Probability:\", sim)\n"
   ]
  },
  {
   "cell_type": "code",
   "execution_count": 4,
   "metadata": {},
   "outputs": [
    {
     "name": "stdout",
     "output_type": "stream",
     "text": [
      "For rho = 0.3 and on 100000000 iterations.\n",
      "Simulated Probability: 0.33632739\n",
      "Theoretical Probability: 0.33630190872075827\n",
      "-------------------------------\n",
      "For rho = 0.6 and on 100000000 iterations.\n",
      "Simulated Probability: 0.28810743\n",
      "Theoretical Probability: 0.28807506101528946\n",
      "-------------------------------\n",
      "For rho = 0.99 and on 100000000 iterations.\n",
      "Simulated Probability: 0.00020417\n",
      "Theoretical Probability: 0.00020347600872250293\n",
      "-------------------------------\n"
     ]
    }
   ],
   "source": [
    "# params\n",
    "mu = 60\n",
    "sigma = 10\n",
    "iters = int(10E7)\n",
    "\n",
    "rhos = [0.3, 0.6, 0.99]\n",
    "\n",
    "for rho in rhos:\n",
    "    cov_matrix = [[sigma**2, rho * sigma**2],\n",
    "                  [rho * sigma**2, sigma**2]]\n",
    "    \n",
    "    # Now we generate the samples\n",
    "    samples = np.random.multivariate_normal([mu, mu], cov_matrix, iters)\n",
    "    # Pull out the midterm and the final score\n",
    "    X = samples[:, 0]\n",
    "    Y = samples[:, 1]\n",
    "    # Calculate the simulated occurances\n",
    "    event = (Y >= X + 5)\n",
    "    estimated_prob = np.mean(event)\n",
    "    # Calulate the theoretical probability\n",
    "    theoretical_prob = 1 - norm.cdf(5 / (sigma * np.sqrt(2*(1-rho))))\n",
    "    print(\"For rho =\", rho, \"and on\", iters, \"iterations.\")\n",
    "    print(\"Simulated Probability:\", estimated_prob)\n",
    "    print(\"Theoretical Probability:\", theoretical_prob)\n",
    "    print(\"-------------------------------\")"
   ]
  }
 ],
 "metadata": {
  "kernelspec": {
   "display_name": "Python 3 (ipykernel)",
   "language": "python",
   "name": "python3"
  },
  "language_info": {
   "codemirror_mode": {
    "name": "ipython",
    "version": 3
   },
   "file_extension": ".py",
   "mimetype": "text/x-python",
   "name": "python",
   "nbconvert_exporter": "python",
   "pygments_lexer": "ipython3",
   "version": "3.12.4"
  }
 },
 "nbformat": 4,
 "nbformat_minor": 4
}
